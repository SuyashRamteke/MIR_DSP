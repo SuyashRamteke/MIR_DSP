import matplotlib.pyplot as plt
import numpy as np
import pandas as pd
import glob
import scipy.signal as signal
from scipy.interpolate import interp1d
import IPython.display as ipd
import scipy.io.wavfile as wav

fnames = glob.glob("/Users/suyashramteke/PycharmProjects/ML_MIR/genres_original/disco/*.wav")
LABEL_PATH = "/Users/suyashramteke/PycharmProjects/ML_MIR/genres_tempos.mf.csv"
label = pd.read_csv(LABEL_PATH)
label = label[299:399]
label = label.SONG.str.split(expand=True)
label = (label[1])
label = np.asarray(label)
label = label.astype(np.int32)
print(label[45])

def rms_track(data, hopSize, winSize):
    offsets = np.arange(0, len(data), hopSize)
    rms_track = np.zeros(len(offsets))

    for (m, o) in enumerate(offsets):
        frame = data[o:o + winSize]
        rms_track[m] = np.sqrt(np.mean(np.square(frame)))
    return (rms_track)

def spectral_flux(data, hopSize ,winSize):
    offsets = np.arange(0, len(data), hopSize)
    stft_track = np.zeros(len(offsets))
    for (m, o) in enumerate(offsets):
        frame = data[o:o + winSize]
        frame_stft = np.mean(np.abs(np.fft.fft(frame)))
        stft_track[m] = frame_stft

    flux = (np.square(np.diff(stft_track)))
    return flux

# Median
def median(peaks_rms, peaks_flux):

    indices_rms = np.nonzero(peaks_rms)[0]
    indices_flux = np.nonzero(peaks_flux)[0]

    period_in_frames = np.median(np.diff(indices_rms))
    period_in_samples = period_in_frames * hopSize
    period_in_secs = period_in_samples / srate
    bpm_med_rms = 60.0 / period_in_secs

    period_in_frames_2 = np.median(np.diff(indices_flux))
    period_in_samples_2 = period_in_frames_2 * hopSize
    period_in_secs_2 = period_in_samples_2 / srate
    bpm_med_flux = 60.0 / period_in_secs_2

    return bpm_med_rms, bpm_med_flux

# Autocorrelation
def acf(peaks_rms, peaks_flux):

    peaks_rms = peaks_rms[:400]
    acf_rms = np.correlate(peaks_rms, peaks_rms, mode='full')
    acf_rms = acf_rms[int(len(acf_rms) / 2):]
    # plt.plot(acf_rms)
    acf_rms_peak_location = np.argmax(acf_rms[1:]) + 1
    # print(acf_rms_peak_location)
    bpm_acf_rms = 60.0 * (float(srate) / (acf_rms_peak_location * hopSize))

    peaks_flux = peaks_flux[:400]
    acf_flux = np.correlate(peaks_flux, peaks_flux, mode='full')
    acf_flux = acf_flux[int(len(acf_flux) / 2):]
    # plt.plot(acf_flux)
    acf_flux_peak_location = np.argmax(acf_flux[1:]) + 1
    # print(acf_flux_peak_location)
    bpm_acf_flux = 60.0 * (float(srate) / (acf_flux_peak_location * hopSize))
    return bpm_acf_rms, bpm_acf_flux

acc = np.zeros(4)

for i, fname in enumerate(fnames):
    srate, audio_signal = wav.read(fname)
    # scale to -1.0/1.0
    audio = audio_signal.astype(np.float32) / 32767.0
    # make max be 0.9
    audio = (0.9 / max(audio)) * audio
    # compute the pitch track
    hopSize = 256
    winSize = 512

    # Pitch tracks
    pt = rms_track(audio, hopSize, winSize)
    pt2 = spectral_flux(audio, hopSize, winSize)
    peaks_rms = np.where(pt < 0.8*np.max(pt), 0, pt)
    peaks_flux = np.where(pt2 < 0.28*np.max(pt2), 0, pt2)
    # peaks_rms = signal.find_peaks(pt)
    # peaks_flux = signal.find_peaks((pt2))

    # I have a doubt here. How should I find the peaks??
    # For every track the number would change and hence give inaccurate results
    # How should I set the number without looking at the graph


    bpm_med_rms, bpm_med_flux = median(peaks_rms, peaks_flux)
    bpm_acf_rms, bpm_acf_flux = acf(peaks_rms, peaks_flux)

    if bpm_med_rms <= label[i] + 4 and bpm_med_rms >= label[i] - 4:
        acc[0] += 1
    if bpm_med_flux <= label[i] + 4 and bpm_med_flux >= label[i] - 4:
        acc[1] += 1
    if bpm_acf_rms <= label[i] + 4 and bpm_acf_rms >= label[i] - 4:
        acc[2] += 1
    if bpm_acf_flux <= label[i] + 4 and bpm_acf_flux >= label[i] - 4:
        acc[3] += 1

print("Accuracy of RMS Median, Flux Median, RMS ACF, Flux ACF :\n", acc/100)

""" 
Based on the observations, spectral flux tends to do better with median than others
But the accuracy changes when I alter the peaks. I am not understanding what is the optimal way
to select the peaks

Also If the peaks are selected optimally (for example by examining the graph, we would be able to
achieve a lot better result)

"""


# Averaging 8 beat segments
srate, audio_signal = wav.read("/Users/suyashramteke/PycharmProjects/ML_MIR/genres_original/disco/disco.00000.wav")
# scale to -1.0/1.0
audio = audio_signal.astype(np.float32) / 32767.0
# make max be 0.9
audio= (0.9 / max(audio)) * audio

plt.figure()
plt.plot(audio)
ipd.Audio(audio,rate=srate)

pt2 = spectral_flux(audio, hopSize, winSize)
peaks_flux = np.where(pt2 < 0.4 * np.max(pt2), 0, pt2)
indices_flux = np.nonzero(peaks_flux)[0]
period_in_frames_2 = np.median(np.diff(indices_flux))
period_in_samples_2 = period_in_frames_2 * hopSize
period_in_secs_2 = period_in_samples_2 / srate
bpm_med_flux = 60.0 / period_in_secs_2

tempo_onset = indices_flux[1]
tempo_indices = [tempo_onset]
while tempo_onset * hopSize < len(audio):
    tempo_onset = tempo_onset + period_in_frames_2
    tempo_indices.append(tempo_onset)
print(tempo_indices)

nbeats = 8

avg_bar = np.zeros(int(bpm_med_flux) * nbeats * hopSize)
for (n, t) in enumerate(tempo_indices[0::nbeats]):
    bar = audio[int(t) * hopSize: int(t)* hopSize + int(bpm_med_flux * nbeats * hopSize)]
    if (n < len(tempo_indices[0::nbeats])-1):
        avg_bar += bar
ipd.Audio(avg_bar, rate=srate)

